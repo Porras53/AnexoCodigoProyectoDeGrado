{
 "cells": [
  {
   "cell_type": "code",
   "execution_count": 1,
   "id": "0c97c30a-8658-4743-b581-f28eb4786534",
   "metadata": {},
   "outputs": [],
   "source": [
    "import pandas as pd\n",
    "import numpy as np\n",
    "import seaborn as sns\n",
    "import matplotlib.pyplot as plt\n",
    "\n",
    "from sklearn.preprocessing import StandardScaler\n",
    "from sklearn.cluster import KMeans\n",
    "from sklearn.metrics import silhouette_samples, silhouette_score\n",
    "from sklearn.preprocessing import MinMaxScaler, minmax_scale\n",
    "\n",
    "from matplotlib import cm\n",
    "from mpl_toolkits.mplot3d import Axes3D # for 3D plots\n",
    "\n",
    "from itertools import cycle\n",
    "from sklearn.mixture import GaussianMixture"
   ]
  },
  {
   "cell_type": "code",
   "execution_count": 2,
   "id": "b19b1a4f-c1ca-4c1b-8d71-d6010cf257c8",
   "metadata": {},
   "outputs": [
    {
     "name": "stderr",
     "output_type": "stream",
     "text": [
      "C:\\Users\\User\\anaconda3\\lib\\site-packages\\IPython\\core\\interactiveshell.py:3135: DtypeWarning: Columns (134) have mixed types.Specify dtype option on import or set low_memory=False.\n",
      "  has_raised = await self.run_ast_nodes(code_ast.body, cell_name,\n"
     ]
    }
   ],
   "source": [
    "info_estudiantes=pd.read_csv('./datos/informacion_por_estudiante_de_IP.csv')\n",
    "envios=pd.read_csv('./datos/todos_los_envios.csv')\n",
    "problemas= pd.read_csv('./datos/todos_problemas.csv')"
   ]
  },
  {
   "cell_type": "markdown",
   "id": "513f44cf-f309-4eca-bc85-64148f150a05",
   "metadata": {},
   "source": [
    "# Analisis general (Coorrelación y limpieza de datos)"
   ]
  },
  {
   "cell_type": "code",
   "execution_count": 3,
   "id": "f6246a49-93ae-4fd0-bef4-41ab02dd1c01",
   "metadata": {},
   "outputs": [
    {
     "data": {
      "text/plain": [
       "estudiante_id\n",
       "363      25\n",
       "364      80\n",
       "365      33\n",
       "366      28\n",
       "367      31\n",
       "       ... \n",
       "6301     94\n",
       "6302     35\n",
       "6303    149\n",
       "6304     76\n",
       "6305     17\n",
       "Name: Num_envios, Length: 4971, dtype: int64"
      ]
     },
     "execution_count": 3,
     "metadata": {},
     "output_type": "execute_result"
    }
   ],
   "source": [
    "envios_por_estudiante=(envios.groupby(['estudiante_id']).count())\n",
    "envios_por_estudiante['Num_envios'] = envios_por_estudiante['estado']\n",
    "envios_por_estudiante['Num_envios']"
   ]
  },
  {
   "cell_type": "code",
   "execution_count": 4,
   "id": "2d33ceca-61e2-408c-bbbd-24f9fcbb79cf",
   "metadata": {},
   "outputs": [],
   "source": [
    "#Tener envíos por nivel del estudiante , luego tener las notas por cada estudiante en cada nivel y hacer una coorrelación , a partir de allí explorar otros factores."
   ]
  },
  {
   "cell_type": "code",
   "execution_count": 5,
   "id": "32e22e81-fcd8-45a8-af69-74c5f9780d29",
   "metadata": {},
   "outputs": [],
   "source": [
    "info_estudiantes_det = info_estudiantes[['id','n1_global','n2_global','n3_global','n4_global','retiro','semestre']]"
   ]
  },
  {
   "cell_type": "code",
   "execution_count": 6,
   "id": "04b93e66-6f3d-4ed2-b51c-df4b9032cef1",
   "metadata": {},
   "outputs": [],
   "source": [
    "info_estudiantes_det= info_estudiantes_det[(info_estudiantes_det['n1_global']>=0) & (info_estudiantes_det['n1_global']<6) &\n",
    "                                           (info_estudiantes_det['n2_global']>=0)  & (info_estudiantes_det['n2_global']<6) &\n",
    "                                           (info_estudiantes_det['n3_global']>=0) & (info_estudiantes_det['n3_global']<6) &\n",
    "                                           (info_estudiantes_det['n4_global']>=0) & (info_estudiantes_det['n4_global']<6) ]\n",
    "info_estudiantes_det= info_estudiantes_det[(info_estudiantes_det['n1_global']>0) |  (info_estudiantes_det['n2_global']>0) |\n",
    "                                         (info_estudiantes_det['n3_global']>0) | (info_estudiantes_det['n4_global']>0)]\n",
    "info_estudiantes_det = info_estudiantes_det.rename(columns={\"id\": \"estudiante_id\"})"
   ]
  },
  {
   "cell_type": "code",
   "execution_count": 7,
   "id": "5200cb5d-a75a-46ee-a624-6744f09ff4be",
   "metadata": {},
   "outputs": [
    {
     "data": {
      "text/html": [
       "<div>\n",
       "<style scoped>\n",
       "    .dataframe tbody tr th:only-of-type {\n",
       "        vertical-align: middle;\n",
       "    }\n",
       "\n",
       "    .dataframe tbody tr th {\n",
       "        vertical-align: top;\n",
       "    }\n",
       "\n",
       "    .dataframe thead th {\n",
       "        text-align: right;\n",
       "    }\n",
       "</style>\n",
       "<table border=\"1\" class=\"dataframe\">\n",
       "  <thead>\n",
       "    <tr style=\"text-align: right;\">\n",
       "      <th></th>\n",
       "      <th>estudiante_id</th>\n",
       "      <th>n1_global</th>\n",
       "      <th>n2_global</th>\n",
       "      <th>n3_global</th>\n",
       "      <th>n4_global</th>\n",
       "      <th>retiro</th>\n",
       "      <th>semestre</th>\n",
       "      <th>est_sem_id</th>\n",
       "    </tr>\n",
       "  </thead>\n",
       "  <tbody>\n",
       "    <tr>\n",
       "      <th>4</th>\n",
       "      <td>867</td>\n",
       "      <td>2.19</td>\n",
       "      <td>2.89</td>\n",
       "      <td>3.350000</td>\n",
       "      <td>3.97</td>\n",
       "      <td>NR</td>\n",
       "      <td>202010</td>\n",
       "      <td>867202010</td>\n",
       "    </tr>\n",
       "    <tr>\n",
       "      <th>5</th>\n",
       "      <td>910</td>\n",
       "      <td>4.57</td>\n",
       "      <td>4.92</td>\n",
       "      <td>4.460000</td>\n",
       "      <td>3.71</td>\n",
       "      <td>NR</td>\n",
       "      <td>202010</td>\n",
       "      <td>910202010</td>\n",
       "    </tr>\n",
       "    <tr>\n",
       "      <th>7</th>\n",
       "      <td>1186</td>\n",
       "      <td>3.67</td>\n",
       "      <td>4.08</td>\n",
       "      <td>4.320000</td>\n",
       "      <td>3.44</td>\n",
       "      <td>NR</td>\n",
       "      <td>202010</td>\n",
       "      <td>1186202010</td>\n",
       "    </tr>\n",
       "    <tr>\n",
       "      <th>8</th>\n",
       "      <td>1394</td>\n",
       "      <td>4.58</td>\n",
       "      <td>4.31</td>\n",
       "      <td>4.190000</td>\n",
       "      <td>4.37</td>\n",
       "      <td>NR</td>\n",
       "      <td>202010</td>\n",
       "      <td>1394202010</td>\n",
       "    </tr>\n",
       "    <tr>\n",
       "      <th>9</th>\n",
       "      <td>1436</td>\n",
       "      <td>4.94</td>\n",
       "      <td>4.70</td>\n",
       "      <td>3.680000</td>\n",
       "      <td>2.65</td>\n",
       "      <td>NR</td>\n",
       "      <td>202010</td>\n",
       "      <td>1436202010</td>\n",
       "    </tr>\n",
       "    <tr>\n",
       "      <th>...</th>\n",
       "      <td>...</td>\n",
       "      <td>...</td>\n",
       "      <td>...</td>\n",
       "      <td>...</td>\n",
       "      <td>...</td>\n",
       "      <td>...</td>\n",
       "      <td>...</td>\n",
       "      <td>...</td>\n",
       "    </tr>\n",
       "    <tr>\n",
       "      <th>7918</th>\n",
       "      <td>5286</td>\n",
       "      <td>4.30</td>\n",
       "      <td>4.52</td>\n",
       "      <td>5.000000</td>\n",
       "      <td>0.00</td>\n",
       "      <td>NR</td>\n",
       "      <td>202210</td>\n",
       "      <td>5286202210</td>\n",
       "    </tr>\n",
       "    <tr>\n",
       "      <th>7921</th>\n",
       "      <td>5709</td>\n",
       "      <td>4.70</td>\n",
       "      <td>3.48</td>\n",
       "      <td>4.800000</td>\n",
       "      <td>0.00</td>\n",
       "      <td>NR</td>\n",
       "      <td>202210</td>\n",
       "      <td>5709202210</td>\n",
       "    </tr>\n",
       "    <tr>\n",
       "      <th>7922</th>\n",
       "      <td>5865</td>\n",
       "      <td>4.60</td>\n",
       "      <td>2.92</td>\n",
       "      <td>3.942857</td>\n",
       "      <td>0.00</td>\n",
       "      <td>NR</td>\n",
       "      <td>202210</td>\n",
       "      <td>5865202210</td>\n",
       "    </tr>\n",
       "    <tr>\n",
       "      <th>7924</th>\n",
       "      <td>5996</td>\n",
       "      <td>4.70</td>\n",
       "      <td>4.72</td>\n",
       "      <td>4.314286</td>\n",
       "      <td>0.00</td>\n",
       "      <td>NR</td>\n",
       "      <td>202210</td>\n",
       "      <td>5996202210</td>\n",
       "    </tr>\n",
       "    <tr>\n",
       "      <th>7925</th>\n",
       "      <td>6097</td>\n",
       "      <td>1.00</td>\n",
       "      <td>0.84</td>\n",
       "      <td>0.000000</td>\n",
       "      <td>0.00</td>\n",
       "      <td>NR</td>\n",
       "      <td>202210</td>\n",
       "      <td>6097202210</td>\n",
       "    </tr>\n",
       "  </tbody>\n",
       "</table>\n",
       "<p>6819 rows × 8 columns</p>\n",
       "</div>"
      ],
      "text/plain": [
       "     estudiante_id  n1_global  n2_global  n3_global  n4_global retiro  \\\n",
       "4              867       2.19       2.89   3.350000       3.97     NR   \n",
       "5              910       4.57       4.92   4.460000       3.71     NR   \n",
       "7             1186       3.67       4.08   4.320000       3.44     NR   \n",
       "8             1394       4.58       4.31   4.190000       4.37     NR   \n",
       "9             1436       4.94       4.70   3.680000       2.65     NR   \n",
       "...            ...        ...        ...        ...        ...    ...   \n",
       "7918          5286       4.30       4.52   5.000000       0.00     NR   \n",
       "7921          5709       4.70       3.48   4.800000       0.00     NR   \n",
       "7922          5865       4.60       2.92   3.942857       0.00     NR   \n",
       "7924          5996       4.70       4.72   4.314286       0.00     NR   \n",
       "7925          6097       1.00       0.84   0.000000       0.00     NR   \n",
       "\n",
       "     semestre  est_sem_id  \n",
       "4      202010   867202010  \n",
       "5      202010   910202010  \n",
       "7      202010  1186202010  \n",
       "8      202010  1394202010  \n",
       "9      202010  1436202010  \n",
       "...       ...         ...  \n",
       "7918   202210  5286202210  \n",
       "7921   202210  5709202210  \n",
       "7922   202210  5865202210  \n",
       "7924   202210  5996202210  \n",
       "7925   202210  6097202210  \n",
       "\n",
       "[6819 rows x 8 columns]"
      ]
     },
     "execution_count": 7,
     "metadata": {},
     "output_type": "execute_result"
    }
   ],
   "source": [
    "info_estudiantes_det['estudiante_id'] = info_estudiantes_det['estudiante_id'].astype(str)\n",
    "info_estudiantes_det['semestre'] = info_estudiantes_det['semestre'].astype(str)\n",
    "\n",
    "info_estudiantes_det['est_sem_id'] =  info_estudiantes_det['estudiante_id'] + info_estudiantes_det['semestre'] \n",
    "\n",
    "info_estudiantes_det.fillna(value=\"NR\", inplace=True)\n",
    "info_estudiantes_det"
   ]
  },
  {
   "cell_type": "code",
   "execution_count": 8,
   "id": "809cc2f6-a06f-4120-b2ea-dd05e17c1bbf",
   "metadata": {},
   "outputs": [],
   "source": [
    "def conseguir_anio(texto):\n",
    "    return (texto.split()[0]).split(\"-\")[0]\n",
    "def conseguir_mes(texto):\n",
    "    return (texto.split()[0]).split(\"-\")[1]\n",
    "def conseguir_dia(texto):\n",
    "    return (texto.split()[0]).split(\"-\")[2]"
   ]
  },
  {
   "cell_type": "code",
   "execution_count": 9,
   "id": "589c5fa6-4a95-47c6-ab63-e3e9b8d4d15c",
   "metadata": {},
   "outputs": [],
   "source": [
    "envios['Anio'] = (envios['timestamp'].apply(conseguir_anio))\n",
    "envios['Mes'] = (envios['timestamp'].apply(conseguir_mes))\n",
    "envios['Dia'] = (envios['timestamp'].apply(conseguir_dia))\n",
    "envios['Anio'] = envios['Anio'].astype(int)\n",
    "envios['Mes'] = envios['Mes'].astype(int)\n",
    "envios['Dia'] = envios['Dia'].astype(int)"
   ]
  },
  {
   "cell_type": "code",
   "execution_count": 10,
   "id": "f355bcf4-6fe1-488b-922d-60be6284d9a4",
   "metadata": {},
   "outputs": [],
   "source": [
    "envios['semestre'] = np.where((envios['Anio']==2022) & (envios['Mes']<6) & (envios['Mes']>=1),\"202210\",\n",
    "                     np.where((envios['Anio']==2021) & (envios['Mes']<=12) & (envios['Mes']>=8),\"202120\",\n",
    "                     np.where((envios['Anio']==2021) & (envios['Mes']<6) & (envios['Mes']>=1),\"202110\",\n",
    "                     np.where((envios['Anio']==2020) & (envios['Mes']<=12) & (envios['Mes']>=8),\"202020\",\n",
    "                     np.where((envios['Anio']==2020) & (envios['Mes']<6) & (envios['Mes']>=1),\"202010\",\n",
    "                     np.where((envios['Anio']==2019) & (envios['Mes']<=12) & (envios['Mes']>=8),\"201920\",\n",
    "                     np.where((envios['Anio']==2019)  & (envios['Mes']<6) & (envios['Mes']>=1),\"201910\",\n",
    "                              \n",
    "                     np.where((envios['Anio']==2021)  & (envios['Mes']<8) & (envios['Mes']>=6),\"202119\",\n",
    "                     np.where((envios['Anio']==2020)  & (envios['Mes']<8) & (envios['Mes']>=6),\"202019\",\n",
    "                     np.where((envios['Anio']==2022)  & (envios['Mes']<=8) & (envios['Mes']>=6),\"202219\",\"No match date\"))))))))))"
   ]
  },
  {
   "cell_type": "code",
   "execution_count": 11,
   "id": "624b7000-6e27-4760-bea3-745dd89db0a7",
   "metadata": {},
   "outputs": [],
   "source": [
    "envios=envios.dropna()"
   ]
  },
  {
   "cell_type": "code",
   "execution_count": 12,
   "id": "f2a7e688-5ec8-4d39-a589-d760eeab1b2f",
   "metadata": {},
   "outputs": [],
   "source": [
    "envios_mod= envios.copy()"
   ]
  },
  {
   "cell_type": "code",
   "execution_count": 13,
   "id": "bd176f9d-f1ce-4488-bd9d-91f2ef5eb64c",
   "metadata": {},
   "outputs": [],
   "source": [
    "envios_mod['estudiante_id'] = envios_mod['estudiante_id'].astype(str)\n",
    "envios_mod['semestre'] = envios_mod['semestre'].astype(str)\n",
    "\n",
    "envios_mod['est_sem_id'] =  envios_mod['estudiante_id'] + envios_mod['semestre'] "
   ]
  },
  {
   "cell_type": "code",
   "execution_count": 14,
   "id": "5fc272cb-6cfd-4e64-93ad-a6941d0f760b",
   "metadata": {},
   "outputs": [
    {
     "data": {
      "text/html": [
       "<div>\n",
       "<style scoped>\n",
       "    .dataframe tbody tr th:only-of-type {\n",
       "        vertical-align: middle;\n",
       "    }\n",
       "\n",
       "    .dataframe tbody tr th {\n",
       "        vertical-align: top;\n",
       "    }\n",
       "\n",
       "    .dataframe thead th {\n",
       "        text-align: right;\n",
       "    }\n",
       "</style>\n",
       "<table border=\"1\" class=\"dataframe\">\n",
       "  <thead>\n",
       "    <tr style=\"text-align: right;\">\n",
       "      <th></th>\n",
       "      <th>id</th>\n",
       "      <th>numero</th>\n",
       "      <th>timestamp</th>\n",
       "      <th>avance</th>\n",
       "      <th>estudiante_id</th>\n",
       "      <th>problema_id</th>\n",
       "      <th>resultado_estudiante_id</th>\n",
       "      <th>estado</th>\n",
       "      <th>Anio</th>\n",
       "      <th>Mes</th>\n",
       "      <th>Dia</th>\n",
       "      <th>semestre</th>\n",
       "      <th>est_sem_id</th>\n",
       "    </tr>\n",
       "  </thead>\n",
       "  <tbody>\n",
       "    <tr>\n",
       "      <th>0</th>\n",
       "      <td>179</td>\n",
       "      <td>1</td>\n",
       "      <td>2019-09-09 16:47:13.610937</td>\n",
       "      <td>100</td>\n",
       "      <td>524</td>\n",
       "      <td>117.0</td>\n",
       "      <td>65</td>\n",
       "      <td>OK</td>\n",
       "      <td>2019</td>\n",
       "      <td>9</td>\n",
       "      <td>9</td>\n",
       "      <td>201920</td>\n",
       "      <td>524201920</td>\n",
       "    </tr>\n",
       "    <tr>\n",
       "      <th>1</th>\n",
       "      <td>180</td>\n",
       "      <td>1</td>\n",
       "      <td>2019-09-09 17:20:15.109540</td>\n",
       "      <td>100</td>\n",
       "      <td>526</td>\n",
       "      <td>117.0</td>\n",
       "      <td>66</td>\n",
       "      <td>OK</td>\n",
       "      <td>2019</td>\n",
       "      <td>9</td>\n",
       "      <td>9</td>\n",
       "      <td>201920</td>\n",
       "      <td>526201920</td>\n",
       "    </tr>\n",
       "    <tr>\n",
       "      <th>2</th>\n",
       "      <td>181</td>\n",
       "      <td>1</td>\n",
       "      <td>2019-09-09 17:28:32.380640</td>\n",
       "      <td>100</td>\n",
       "      <td>525</td>\n",
       "      <td>152.0</td>\n",
       "      <td>67</td>\n",
       "      <td>OK</td>\n",
       "      <td>2019</td>\n",
       "      <td>9</td>\n",
       "      <td>9</td>\n",
       "      <td>201920</td>\n",
       "      <td>525201920</td>\n",
       "    </tr>\n",
       "    <tr>\n",
       "      <th>3</th>\n",
       "      <td>182</td>\n",
       "      <td>1</td>\n",
       "      <td>2019-09-09 17:31:04.890352</td>\n",
       "      <td>0</td>\n",
       "      <td>525</td>\n",
       "      <td>149.0</td>\n",
       "      <td>68</td>\n",
       "      <td>ER</td>\n",
       "      <td>2019</td>\n",
       "      <td>9</td>\n",
       "      <td>9</td>\n",
       "      <td>201920</td>\n",
       "      <td>525201920</td>\n",
       "    </tr>\n",
       "    <tr>\n",
       "      <th>4</th>\n",
       "      <td>183</td>\n",
       "      <td>1</td>\n",
       "      <td>2019-09-09 17:32:11.534749</td>\n",
       "      <td>100</td>\n",
       "      <td>525</td>\n",
       "      <td>150.0</td>\n",
       "      <td>69</td>\n",
       "      <td>OK</td>\n",
       "      <td>2019</td>\n",
       "      <td>9</td>\n",
       "      <td>9</td>\n",
       "      <td>201920</td>\n",
       "      <td>525201920</td>\n",
       "    </tr>\n",
       "    <tr>\n",
       "      <th>...</th>\n",
       "      <td>...</td>\n",
       "      <td>...</td>\n",
       "      <td>...</td>\n",
       "      <td>...</td>\n",
       "      <td>...</td>\n",
       "      <td>...</td>\n",
       "      <td>...</td>\n",
       "      <td>...</td>\n",
       "      <td>...</td>\n",
       "      <td>...</td>\n",
       "      <td>...</td>\n",
       "      <td>...</td>\n",
       "      <td>...</td>\n",
       "    </tr>\n",
       "    <tr>\n",
       "      <th>300408</th>\n",
       "      <td>300595</td>\n",
       "      <td>1</td>\n",
       "      <td>2022-08-06 14:24:57.239117</td>\n",
       "      <td>100</td>\n",
       "      <td>5906</td>\n",
       "      <td>154.0</td>\n",
       "      <td>135627</td>\n",
       "      <td>OK</td>\n",
       "      <td>2022</td>\n",
       "      <td>8</td>\n",
       "      <td>6</td>\n",
       "      <td>202219</td>\n",
       "      <td>5906202219</td>\n",
       "    </tr>\n",
       "    <tr>\n",
       "      <th>300409</th>\n",
       "      <td>300596</td>\n",
       "      <td>1</td>\n",
       "      <td>2022-08-06 14:56:34.644659</td>\n",
       "      <td>30</td>\n",
       "      <td>5906</td>\n",
       "      <td>157.0</td>\n",
       "      <td>135628</td>\n",
       "      <td>ER</td>\n",
       "      <td>2022</td>\n",
       "      <td>8</td>\n",
       "      <td>6</td>\n",
       "      <td>202219</td>\n",
       "      <td>5906202219</td>\n",
       "    </tr>\n",
       "    <tr>\n",
       "      <th>300410</th>\n",
       "      <td>300597</td>\n",
       "      <td>2</td>\n",
       "      <td>2022-08-06 15:02:20.309052</td>\n",
       "      <td>50</td>\n",
       "      <td>5906</td>\n",
       "      <td>157.0</td>\n",
       "      <td>135628</td>\n",
       "      <td>ER</td>\n",
       "      <td>2022</td>\n",
       "      <td>8</td>\n",
       "      <td>6</td>\n",
       "      <td>202219</td>\n",
       "      <td>5906202219</td>\n",
       "    </tr>\n",
       "    <tr>\n",
       "      <th>300411</th>\n",
       "      <td>300598</td>\n",
       "      <td>3</td>\n",
       "      <td>2022-08-06 15:08:44.696018</td>\n",
       "      <td>100</td>\n",
       "      <td>5906</td>\n",
       "      <td>157.0</td>\n",
       "      <td>135628</td>\n",
       "      <td>OK</td>\n",
       "      <td>2022</td>\n",
       "      <td>8</td>\n",
       "      <td>6</td>\n",
       "      <td>202219</td>\n",
       "      <td>5906202219</td>\n",
       "    </tr>\n",
       "    <tr>\n",
       "      <th>300412</th>\n",
       "      <td>300599</td>\n",
       "      <td>1</td>\n",
       "      <td>2022-08-06 15:20:15.450663</td>\n",
       "      <td>100</td>\n",
       "      <td>5906</td>\n",
       "      <td>163.0</td>\n",
       "      <td>135629</td>\n",
       "      <td>OK</td>\n",
       "      <td>2022</td>\n",
       "      <td>8</td>\n",
       "      <td>6</td>\n",
       "      <td>202219</td>\n",
       "      <td>5906202219</td>\n",
       "    </tr>\n",
       "  </tbody>\n",
       "</table>\n",
       "<p>300411 rows × 13 columns</p>\n",
       "</div>"
      ],
      "text/plain": [
       "            id  numero                   timestamp  avance estudiante_id  \\\n",
       "0          179       1  2019-09-09 16:47:13.610937     100           524   \n",
       "1          180       1  2019-09-09 17:20:15.109540     100           526   \n",
       "2          181       1  2019-09-09 17:28:32.380640     100           525   \n",
       "3          182       1  2019-09-09 17:31:04.890352       0           525   \n",
       "4          183       1  2019-09-09 17:32:11.534749     100           525   \n",
       "...        ...     ...                         ...     ...           ...   \n",
       "300408  300595       1  2022-08-06 14:24:57.239117     100          5906   \n",
       "300409  300596       1  2022-08-06 14:56:34.644659      30          5906   \n",
       "300410  300597       2  2022-08-06 15:02:20.309052      50          5906   \n",
       "300411  300598       3  2022-08-06 15:08:44.696018     100          5906   \n",
       "300412  300599       1  2022-08-06 15:20:15.450663     100          5906   \n",
       "\n",
       "        problema_id  resultado_estudiante_id estado  Anio  Mes  Dia semestre  \\\n",
       "0             117.0                       65     OK  2019    9    9   201920   \n",
       "1             117.0                       66     OK  2019    9    9   201920   \n",
       "2             152.0                       67     OK  2019    9    9   201920   \n",
       "3             149.0                       68     ER  2019    9    9   201920   \n",
       "4             150.0                       69     OK  2019    9    9   201920   \n",
       "...             ...                      ...    ...   ...  ...  ...      ...   \n",
       "300408        154.0                   135627     OK  2022    8    6   202219   \n",
       "300409        157.0                   135628     ER  2022    8    6   202219   \n",
       "300410        157.0                   135628     ER  2022    8    6   202219   \n",
       "300411        157.0                   135628     OK  2022    8    6   202219   \n",
       "300412        163.0                   135629     OK  2022    8    6   202219   \n",
       "\n",
       "        est_sem_id  \n",
       "0        524201920  \n",
       "1        526201920  \n",
       "2        525201920  \n",
       "3        525201920  \n",
       "4        525201920  \n",
       "...            ...  \n",
       "300408  5906202219  \n",
       "300409  5906202219  \n",
       "300410  5906202219  \n",
       "300411  5906202219  \n",
       "300412  5906202219  \n",
       "\n",
       "[300411 rows x 13 columns]"
      ]
     },
     "execution_count": 14,
     "metadata": {},
     "output_type": "execute_result"
    }
   ],
   "source": [
    "envios_mod"
   ]
  },
  {
   "cell_type": "code",
   "execution_count": 15,
   "id": "529455fa-e70b-441f-8735-99f7fe32815a",
   "metadata": {},
   "outputs": [],
   "source": [
    "problemas = problemas.rename(columns={\"id\": \"problema_id\"})"
   ]
  },
  {
   "cell_type": "code",
   "execution_count": 16,
   "id": "3a8d4917-0a4f-462e-8517-efc208feb11e",
   "metadata": {},
   "outputs": [],
   "source": [
    "envios_problemas= pd.merge(envios_mod,problemas,on='problema_id')"
   ]
  },
  {
   "cell_type": "code",
   "execution_count": 17,
   "id": "7b0444bb-18b3-4297-be1d-7248731723e6",
   "metadata": {},
   "outputs": [
    {
     "name": "stdout",
     "output_type": "stream",
     "text": [
      "<class 'pandas.core.frame.DataFrame'>\n",
      "Int64Index: 300411 entries, 0 to 300410\n",
      "Data columns (total 24 columns):\n",
      " #   Column                   Non-Null Count   Dtype  \n",
      "---  ------                   --------------   -----  \n",
      " 0   id                       300411 non-null  int64  \n",
      " 1   numero                   300411 non-null  int64  \n",
      " 2   timestamp                300411 non-null  object \n",
      " 3   avance                   300411 non-null  int64  \n",
      " 4   estudiante_id            300411 non-null  object \n",
      " 5   problema_id              300411 non-null  float64\n",
      " 6   resultado_estudiante_id  300411 non-null  int64  \n",
      " 7   estado_x                 300411 non-null  object \n",
      " 8   Anio                     300411 non-null  int32  \n",
      " 9   Mes                      300411 non-null  int32  \n",
      " 10  Dia                      300411 non-null  int32  \n",
      " 11  semestre                 300411 non-null  object \n",
      " 12  est_sem_id               300411 non-null  object \n",
      " 13  titulo                   300411 non-null  object \n",
      " 14  curso_id                 300411 non-null  int64  \n",
      " 15  autor_id                 300411 non-null  int64  \n",
      " 16  dificultad               300411 non-null  int64  \n",
      " 17  estado_y                 300411 non-null  object \n",
      " 18  funcion                  300411 non-null  object \n",
      " 19  retorno_tipo             300411 non-null  object \n",
      " 20  publico                  300411 non-null  int64  \n",
      " 21  nivel                    300411 non-null  int64  \n",
      " 22  ultima_modificacion      300411 non-null  object \n",
      " 23  nivel_reto               300411 non-null  object \n",
      "dtypes: float64(1), int32(3), int64(9), object(11)\n",
      "memory usage: 53.9+ MB\n"
     ]
    }
   ],
   "source": [
    "envios_problemas.info()"
   ]
  },
  {
   "cell_type": "code",
   "execution_count": 18,
   "id": "caee78b2-f94c-4094-98bd-2f1853a01f92",
   "metadata": {},
   "outputs": [
    {
     "data": {
      "text/html": [
       "<div>\n",
       "<style scoped>\n",
       "    .dataframe tbody tr th:only-of-type {\n",
       "        vertical-align: middle;\n",
       "    }\n",
       "\n",
       "    .dataframe tbody tr th {\n",
       "        vertical-align: top;\n",
       "    }\n",
       "\n",
       "    .dataframe thead th {\n",
       "        text-align: right;\n",
       "    }\n",
       "</style>\n",
       "<table border=\"1\" class=\"dataframe\">\n",
       "  <thead>\n",
       "    <tr style=\"text-align: right;\">\n",
       "      <th></th>\n",
       "      <th>est_sem_id</th>\n",
       "      <th>nivel</th>\n",
       "      <th>Num_envios</th>\n",
       "    </tr>\n",
       "  </thead>\n",
       "  <tbody>\n",
       "    <tr>\n",
       "      <th>0</th>\n",
       "      <td>1000202010</td>\n",
       "      <td>1</td>\n",
       "      <td>22</td>\n",
       "    </tr>\n",
       "    <tr>\n",
       "      <th>1</th>\n",
       "      <td>1000202010</td>\n",
       "      <td>2</td>\n",
       "      <td>4</td>\n",
       "    </tr>\n",
       "    <tr>\n",
       "      <th>2</th>\n",
       "      <td>1000202010</td>\n",
       "      <td>3</td>\n",
       "      <td>4</td>\n",
       "    </tr>\n",
       "    <tr>\n",
       "      <th>3</th>\n",
       "      <td>1001202010</td>\n",
       "      <td>1</td>\n",
       "      <td>7</td>\n",
       "    </tr>\n",
       "    <tr>\n",
       "      <th>4</th>\n",
       "      <td>1001202010</td>\n",
       "      <td>2</td>\n",
       "      <td>5</td>\n",
       "    </tr>\n",
       "    <tr>\n",
       "      <th>...</th>\n",
       "      <td>...</td>\n",
       "      <td>...</td>\n",
       "      <td>...</td>\n",
       "    </tr>\n",
       "    <tr>\n",
       "      <th>18286</th>\n",
       "      <td>999202010</td>\n",
       "      <td>1</td>\n",
       "      <td>45</td>\n",
       "    </tr>\n",
       "    <tr>\n",
       "      <th>18287</th>\n",
       "      <td>999202010</td>\n",
       "      <td>2</td>\n",
       "      <td>33</td>\n",
       "    </tr>\n",
       "    <tr>\n",
       "      <th>18288</th>\n",
       "      <td>999202010</td>\n",
       "      <td>3</td>\n",
       "      <td>51</td>\n",
       "    </tr>\n",
       "    <tr>\n",
       "      <th>18289</th>\n",
       "      <td>999202010</td>\n",
       "      <td>4</td>\n",
       "      <td>13</td>\n",
       "    </tr>\n",
       "    <tr>\n",
       "      <th>18290</th>\n",
       "      <td>999202019</td>\n",
       "      <td>4</td>\n",
       "      <td>12</td>\n",
       "    </tr>\n",
       "  </tbody>\n",
       "</table>\n",
       "<p>18291 rows × 3 columns</p>\n",
       "</div>"
      ],
      "text/plain": [
       "       est_sem_id  nivel  Num_envios\n",
       "0      1000202010      1          22\n",
       "1      1000202010      2           4\n",
       "2      1000202010      3           4\n",
       "3      1001202010      1           7\n",
       "4      1001202010      2           5\n",
       "...           ...    ...         ...\n",
       "18286   999202010      1          45\n",
       "18287   999202010      2          33\n",
       "18288   999202010      3          51\n",
       "18289   999202010      4          13\n",
       "18290   999202019      4          12\n",
       "\n",
       "[18291 rows x 3 columns]"
      ]
     },
     "execution_count": 18,
     "metadata": {},
     "output_type": "execute_result"
    }
   ],
   "source": [
    "envios_por_nivel_por_estudiante=(envios_problemas.groupby(['est_sem_id','nivel']).count())\n",
    "envios_por_nivel_por_estudiante['Num_envios'] = envios_por_nivel_por_estudiante['funcion']\n",
    "envios_por_nivel_por_estudiante = envios_por_nivel_por_estudiante['Num_envios'].reset_index()\n",
    "envios_por_nivel_por_estudiante"
   ]
  },
  {
   "cell_type": "code",
   "execution_count": 19,
   "id": "7d455e38-a120-496d-897e-59b5e16cfb69",
   "metadata": {},
   "outputs": [
    {
     "name": "stdout",
     "output_type": "stream",
     "text": [
      "<class 'pandas.core.frame.DataFrame'>\n",
      "Int64Index: 6819 entries, 4 to 7925\n",
      "Data columns (total 8 columns):\n",
      " #   Column         Non-Null Count  Dtype  \n",
      "---  ------         --------------  -----  \n",
      " 0   estudiante_id  6819 non-null   object \n",
      " 1   n1_global      6819 non-null   float64\n",
      " 2   n2_global      6819 non-null   float64\n",
      " 3   n3_global      6819 non-null   float64\n",
      " 4   n4_global      6819 non-null   float64\n",
      " 5   retiro         6819 non-null   object \n",
      " 6   semestre       6819 non-null   object \n",
      " 7   est_sem_id     6819 non-null   object \n",
      "dtypes: float64(4), object(4)\n",
      "memory usage: 479.5+ KB\n"
     ]
    }
   ],
   "source": [
    "info_estudiantes_det.info()"
   ]
  },
  {
   "cell_type": "code",
   "execution_count": 89,
   "id": "c05d044e-c4f2-4f34-84d4-e3ffa436990a",
   "metadata": {},
   "outputs": [
    {
     "data": {
      "text/html": [
       "<div>\n",
       "<style scoped>\n",
       "    .dataframe tbody tr th:only-of-type {\n",
       "        vertical-align: middle;\n",
       "    }\n",
       "\n",
       "    .dataframe tbody tr th {\n",
       "        vertical-align: top;\n",
       "    }\n",
       "\n",
       "    .dataframe thead th {\n",
       "        text-align: right;\n",
       "    }\n",
       "</style>\n",
       "<table border=\"1\" class=\"dataframe\">\n",
       "  <thead>\n",
       "    <tr style=\"text-align: right;\">\n",
       "      <th></th>\n",
       "      <th>est_sem_id</th>\n",
       "      <th>nivel</th>\n",
       "      <th>Num_envios</th>\n",
       "      <th>estudiante_id</th>\n",
       "      <th>n1_global</th>\n",
       "      <th>n2_global</th>\n",
       "      <th>n3_global</th>\n",
       "      <th>n4_global</th>\n",
       "      <th>retiro</th>\n",
       "      <th>semestre</th>\n",
       "    </tr>\n",
       "  </thead>\n",
       "  <tbody>\n",
       "    <tr>\n",
       "      <th>0</th>\n",
       "      <td>1003202110</td>\n",
       "      <td>1</td>\n",
       "      <td>18</td>\n",
       "      <td>1003</td>\n",
       "      <td>5.07</td>\n",
       "      <td>4.63</td>\n",
       "      <td>4.50</td>\n",
       "      <td>5.00</td>\n",
       "      <td>NR</td>\n",
       "      <td>202110</td>\n",
       "    </tr>\n",
       "    <tr>\n",
       "      <th>1</th>\n",
       "      <td>1003202110</td>\n",
       "      <td>2</td>\n",
       "      <td>4</td>\n",
       "      <td>1003</td>\n",
       "      <td>5.07</td>\n",
       "      <td>4.63</td>\n",
       "      <td>4.50</td>\n",
       "      <td>5.00</td>\n",
       "      <td>NR</td>\n",
       "      <td>202110</td>\n",
       "    </tr>\n",
       "    <tr>\n",
       "      <th>2</th>\n",
       "      <td>1003202110</td>\n",
       "      <td>3</td>\n",
       "      <td>5</td>\n",
       "      <td>1003</td>\n",
       "      <td>5.07</td>\n",
       "      <td>4.63</td>\n",
       "      <td>4.50</td>\n",
       "      <td>5.00</td>\n",
       "      <td>NR</td>\n",
       "      <td>202110</td>\n",
       "    </tr>\n",
       "    <tr>\n",
       "      <th>3</th>\n",
       "      <td>1009202010</td>\n",
       "      <td>1</td>\n",
       "      <td>14</td>\n",
       "      <td>1009</td>\n",
       "      <td>3.38</td>\n",
       "      <td>3.36</td>\n",
       "      <td>4.10</td>\n",
       "      <td>3.69</td>\n",
       "      <td>NR</td>\n",
       "      <td>202010</td>\n",
       "    </tr>\n",
       "    <tr>\n",
       "      <th>4</th>\n",
       "      <td>1009202010</td>\n",
       "      <td>2</td>\n",
       "      <td>6</td>\n",
       "      <td>1009</td>\n",
       "      <td>3.38</td>\n",
       "      <td>3.36</td>\n",
       "      <td>4.10</td>\n",
       "      <td>3.69</td>\n",
       "      <td>NR</td>\n",
       "      <td>202010</td>\n",
       "    </tr>\n",
       "    <tr>\n",
       "      <th>...</th>\n",
       "      <td>...</td>\n",
       "      <td>...</td>\n",
       "      <td>...</td>\n",
       "      <td>...</td>\n",
       "      <td>...</td>\n",
       "      <td>...</td>\n",
       "      <td>...</td>\n",
       "      <td>...</td>\n",
       "      <td>...</td>\n",
       "      <td>...</td>\n",
       "    </tr>\n",
       "    <tr>\n",
       "      <th>14389</th>\n",
       "      <td>982202010</td>\n",
       "      <td>3</td>\n",
       "      <td>16</td>\n",
       "      <td>982</td>\n",
       "      <td>4.83</td>\n",
       "      <td>3.41</td>\n",
       "      <td>4.02</td>\n",
       "      <td>4.53</td>\n",
       "      <td>NR</td>\n",
       "      <td>202010</td>\n",
       "    </tr>\n",
       "    <tr>\n",
       "      <th>14390</th>\n",
       "      <td>982202010</td>\n",
       "      <td>4</td>\n",
       "      <td>4</td>\n",
       "      <td>982</td>\n",
       "      <td>4.83</td>\n",
       "      <td>3.41</td>\n",
       "      <td>4.02</td>\n",
       "      <td>4.53</td>\n",
       "      <td>NR</td>\n",
       "      <td>202010</td>\n",
       "    </tr>\n",
       "    <tr>\n",
       "      <th>14391</th>\n",
       "      <td>983202010</td>\n",
       "      <td>1</td>\n",
       "      <td>7</td>\n",
       "      <td>983</td>\n",
       "      <td>4.55</td>\n",
       "      <td>2.40</td>\n",
       "      <td>3.17</td>\n",
       "      <td>4.35</td>\n",
       "      <td>NR</td>\n",
       "      <td>202010</td>\n",
       "    </tr>\n",
       "    <tr>\n",
       "      <th>14392</th>\n",
       "      <td>983202010</td>\n",
       "      <td>2</td>\n",
       "      <td>17</td>\n",
       "      <td>983</td>\n",
       "      <td>4.55</td>\n",
       "      <td>2.40</td>\n",
       "      <td>3.17</td>\n",
       "      <td>4.35</td>\n",
       "      <td>NR</td>\n",
       "      <td>202010</td>\n",
       "    </tr>\n",
       "    <tr>\n",
       "      <th>14393</th>\n",
       "      <td>983202010</td>\n",
       "      <td>3</td>\n",
       "      <td>25</td>\n",
       "      <td>983</td>\n",
       "      <td>4.55</td>\n",
       "      <td>2.40</td>\n",
       "      <td>3.17</td>\n",
       "      <td>4.35</td>\n",
       "      <td>NR</td>\n",
       "      <td>202010</td>\n",
       "    </tr>\n",
       "  </tbody>\n",
       "</table>\n",
       "<p>14394 rows × 10 columns</p>\n",
       "</div>"
      ],
      "text/plain": [
       "       est_sem_id  nivel  Num_envios estudiante_id  n1_global  n2_global  \\\n",
       "0      1003202110      1          18          1003       5.07       4.63   \n",
       "1      1003202110      2           4          1003       5.07       4.63   \n",
       "2      1003202110      3           5          1003       5.07       4.63   \n",
       "3      1009202010      1          14          1009       3.38       3.36   \n",
       "4      1009202010      2           6          1009       3.38       3.36   \n",
       "...           ...    ...         ...           ...        ...        ...   \n",
       "14389   982202010      3          16           982       4.83       3.41   \n",
       "14390   982202010      4           4           982       4.83       3.41   \n",
       "14391   983202010      1           7           983       4.55       2.40   \n",
       "14392   983202010      2          17           983       4.55       2.40   \n",
       "14393   983202010      3          25           983       4.55       2.40   \n",
       "\n",
       "       n3_global  n4_global retiro semestre  \n",
       "0           4.50       5.00     NR   202110  \n",
       "1           4.50       5.00     NR   202110  \n",
       "2           4.50       5.00     NR   202110  \n",
       "3           4.10       3.69     NR   202010  \n",
       "4           4.10       3.69     NR   202010  \n",
       "...          ...        ...    ...      ...  \n",
       "14389       4.02       4.53     NR   202010  \n",
       "14390       4.02       4.53     NR   202010  \n",
       "14391       3.17       4.35     NR   202010  \n",
       "14392       3.17       4.35     NR   202010  \n",
       "14393       3.17       4.35     NR   202010  \n",
       "\n",
       "[14394 rows x 10 columns]"
      ]
     },
     "execution_count": 89,
     "metadata": {},
     "output_type": "execute_result"
    }
   ],
   "source": [
    "df_final= pd.merge(envios_por_nivel_por_estudiante,info_estudiantes_det,on='est_sem_id')\n",
    "df_final"
   ]
  },
  {
   "cell_type": "code",
   "execution_count": 90,
   "id": "f0bfe93d-bff0-4982-b948-c8ea29fc38ea",
   "metadata": {},
   "outputs": [],
   "source": [
    "df_final.fillna(value=\"NR\", inplace=True)"
   ]
  },
  {
   "cell_type": "code",
   "execution_count": 91,
   "id": "62313813-d701-4078-ba57-872e7a472ed6",
   "metadata": {},
   "outputs": [
    {
     "data": {
      "text/html": [
       "<div>\n",
       "<style scoped>\n",
       "    .dataframe tbody tr th:only-of-type {\n",
       "        vertical-align: middle;\n",
       "    }\n",
       "\n",
       "    .dataframe tbody tr th {\n",
       "        vertical-align: top;\n",
       "    }\n",
       "\n",
       "    .dataframe thead th {\n",
       "        text-align: right;\n",
       "    }\n",
       "</style>\n",
       "<table border=\"1\" class=\"dataframe\">\n",
       "  <thead>\n",
       "    <tr style=\"text-align: right;\">\n",
       "      <th></th>\n",
       "      <th>est_sem_id</th>\n",
       "      <th>nivel</th>\n",
       "      <th>Num_envios</th>\n",
       "      <th>estudiante_id</th>\n",
       "      <th>n1_global</th>\n",
       "      <th>n2_global</th>\n",
       "      <th>n3_global</th>\n",
       "      <th>n4_global</th>\n",
       "      <th>semestre</th>\n",
       "    </tr>\n",
       "    <tr>\n",
       "      <th>retiro</th>\n",
       "      <th></th>\n",
       "      <th></th>\n",
       "      <th></th>\n",
       "      <th></th>\n",
       "      <th></th>\n",
       "      <th></th>\n",
       "      <th></th>\n",
       "      <th></th>\n",
       "      <th></th>\n",
       "    </tr>\n",
       "  </thead>\n",
       "  <tbody>\n",
       "    <tr>\n",
       "      <th>NR</th>\n",
       "      <td>13038</td>\n",
       "      <td>13038</td>\n",
       "      <td>13038</td>\n",
       "      <td>13038</td>\n",
       "      <td>13038</td>\n",
       "      <td>13038</td>\n",
       "      <td>13038</td>\n",
       "      <td>13038</td>\n",
       "      <td>13038</td>\n",
       "    </tr>\n",
       "    <tr>\n",
       "      <th>P</th>\n",
       "      <td>43</td>\n",
       "      <td>43</td>\n",
       "      <td>43</td>\n",
       "      <td>43</td>\n",
       "      <td>43</td>\n",
       "      <td>43</td>\n",
       "      <td>43</td>\n",
       "      <td>43</td>\n",
       "      <td>43</td>\n",
       "    </tr>\n",
       "    <tr>\n",
       "      <th>R</th>\n",
       "      <td>1313</td>\n",
       "      <td>1313</td>\n",
       "      <td>1313</td>\n",
       "      <td>1313</td>\n",
       "      <td>1313</td>\n",
       "      <td>1313</td>\n",
       "      <td>1313</td>\n",
       "      <td>1313</td>\n",
       "      <td>1313</td>\n",
       "    </tr>\n",
       "  </tbody>\n",
       "</table>\n",
       "</div>"
      ],
      "text/plain": [
       "        est_sem_id  nivel  Num_envios  estudiante_id  n1_global  n2_global  \\\n",
       "retiro                                                                       \n",
       "NR           13038  13038       13038          13038      13038      13038   \n",
       "P               43     43          43             43         43         43   \n",
       "R             1313   1313        1313           1313       1313       1313   \n",
       "\n",
       "        n3_global  n4_global  semestre  \n",
       "retiro                                  \n",
       "NR          13038      13038     13038  \n",
       "P              43         43        43  \n",
       "R            1313       1313      1313  "
      ]
     },
     "execution_count": 91,
     "metadata": {},
     "output_type": "execute_result"
    }
   ],
   "source": [
    "df_final.groupby(['retiro']).count()"
   ]
  },
  {
   "cell_type": "code",
   "execution_count": 92,
   "id": "49395255-d75d-448a-b1c3-7d8c2cb49a62",
   "metadata": {},
   "outputs": [
    {
     "data": {
      "text/html": [
       "<div>\n",
       "<style scoped>\n",
       "    .dataframe tbody tr th:only-of-type {\n",
       "        vertical-align: middle;\n",
       "    }\n",
       "\n",
       "    .dataframe tbody tr th {\n",
       "        vertical-align: top;\n",
       "    }\n",
       "\n",
       "    .dataframe thead th {\n",
       "        text-align: right;\n",
       "    }\n",
       "</style>\n",
       "<table border=\"1\" class=\"dataframe\">\n",
       "  <thead>\n",
       "    <tr style=\"text-align: right;\">\n",
       "      <th></th>\n",
       "      <th>nivel</th>\n",
       "      <th>Num_envios</th>\n",
       "      <th>n1_global</th>\n",
       "      <th>n2_global</th>\n",
       "      <th>n3_global</th>\n",
       "      <th>n4_global</th>\n",
       "    </tr>\n",
       "  </thead>\n",
       "  <tbody>\n",
       "    <tr>\n",
       "      <th>count</th>\n",
       "      <td>14394.000000</td>\n",
       "      <td>14394.000000</td>\n",
       "      <td>14394.000000</td>\n",
       "      <td>14394.000000</td>\n",
       "      <td>14394.000000</td>\n",
       "      <td>14394.000000</td>\n",
       "    </tr>\n",
       "    <tr>\n",
       "      <th>mean</th>\n",
       "      <td>2.393289</td>\n",
       "      <td>18.020425</td>\n",
       "      <td>4.145100</td>\n",
       "      <td>3.598973</td>\n",
       "      <td>3.337105</td>\n",
       "      <td>2.390204</td>\n",
       "    </tr>\n",
       "    <tr>\n",
       "      <th>std</th>\n",
       "      <td>1.088988</td>\n",
       "      <td>16.426784</td>\n",
       "      <td>0.947176</td>\n",
       "      <td>1.223356</td>\n",
       "      <td>1.539343</td>\n",
       "      <td>1.953121</td>\n",
       "    </tr>\n",
       "    <tr>\n",
       "      <th>min</th>\n",
       "      <td>1.000000</td>\n",
       "      <td>1.000000</td>\n",
       "      <td>0.000000</td>\n",
       "      <td>0.000000</td>\n",
       "      <td>0.000000</td>\n",
       "      <td>0.000000</td>\n",
       "    </tr>\n",
       "    <tr>\n",
       "      <th>25%</th>\n",
       "      <td>1.000000</td>\n",
       "      <td>7.000000</td>\n",
       "      <td>3.980000</td>\n",
       "      <td>3.022500</td>\n",
       "      <td>2.630000</td>\n",
       "      <td>0.000000</td>\n",
       "    </tr>\n",
       "    <tr>\n",
       "      <th>50%</th>\n",
       "      <td>2.000000</td>\n",
       "      <td>14.000000</td>\n",
       "      <td>4.450000</td>\n",
       "      <td>3.920000</td>\n",
       "      <td>3.857143</td>\n",
       "      <td>2.880000</td>\n",
       "    </tr>\n",
       "    <tr>\n",
       "      <th>75%</th>\n",
       "      <td>3.000000</td>\n",
       "      <td>23.000000</td>\n",
       "      <td>4.780000</td>\n",
       "      <td>4.510000</td>\n",
       "      <td>4.514286</td>\n",
       "      <td>4.230000</td>\n",
       "    </tr>\n",
       "    <tr>\n",
       "      <th>max</th>\n",
       "      <td>4.000000</td>\n",
       "      <td>238.000000</td>\n",
       "      <td>5.120000</td>\n",
       "      <td>5.050000</td>\n",
       "      <td>5.180000</td>\n",
       "      <td>5.490000</td>\n",
       "    </tr>\n",
       "  </tbody>\n",
       "</table>\n",
       "</div>"
      ],
      "text/plain": [
       "              nivel    Num_envios     n1_global     n2_global     n3_global  \\\n",
       "count  14394.000000  14394.000000  14394.000000  14394.000000  14394.000000   \n",
       "mean       2.393289     18.020425      4.145100      3.598973      3.337105   \n",
       "std        1.088988     16.426784      0.947176      1.223356      1.539343   \n",
       "min        1.000000      1.000000      0.000000      0.000000      0.000000   \n",
       "25%        1.000000      7.000000      3.980000      3.022500      2.630000   \n",
       "50%        2.000000     14.000000      4.450000      3.920000      3.857143   \n",
       "75%        3.000000     23.000000      4.780000      4.510000      4.514286   \n",
       "max        4.000000    238.000000      5.120000      5.050000      5.180000   \n",
       "\n",
       "          n4_global  \n",
       "count  14394.000000  \n",
       "mean       2.390204  \n",
       "std        1.953121  \n",
       "min        0.000000  \n",
       "25%        0.000000  \n",
       "50%        2.880000  \n",
       "75%        4.230000  \n",
       "max        5.490000  "
      ]
     },
     "execution_count": 92,
     "metadata": {},
     "output_type": "execute_result"
    }
   ],
   "source": [
    "df_final.describe()"
   ]
  },
  {
   "cell_type": "code",
   "execution_count": 93,
   "id": "6ec98a48-ace3-4252-b065-ed536909787a",
   "metadata": {},
   "outputs": [
    {
     "name": "stdout",
     "output_type": "stream",
     "text": [
      "<class 'pandas.core.frame.DataFrame'>\n",
      "Int64Index: 14394 entries, 0 to 14393\n",
      "Data columns (total 10 columns):\n",
      " #   Column         Non-Null Count  Dtype  \n",
      "---  ------         --------------  -----  \n",
      " 0   est_sem_id     14394 non-null  object \n",
      " 1   nivel          14394 non-null  int64  \n",
      " 2   Num_envios     14394 non-null  int64  \n",
      " 3   estudiante_id  14394 non-null  object \n",
      " 4   n1_global      14394 non-null  float64\n",
      " 5   n2_global      14394 non-null  float64\n",
      " 6   n3_global      14394 non-null  float64\n",
      " 7   n4_global      14394 non-null  float64\n",
      " 8   retiro         14394 non-null  object \n",
      " 9   semestre       14394 non-null  object \n",
      "dtypes: float64(4), int64(2), object(4)\n",
      "memory usage: 1.2+ MB\n"
     ]
    }
   ],
   "source": [
    "df_final.info()"
   ]
  },
  {
   "cell_type": "code",
   "execution_count": 94,
   "id": "b954f0e5-c380-4c58-aaca-b37ca36b50ef",
   "metadata": {},
   "outputs": [
    {
     "data": {
      "text/plain": [
       "<AxesSubplot:>"
      ]
     },
     "execution_count": 94,
     "metadata": {},
     "output_type": "execute_result"
    },
    {
     "data": {
      "image/png": "[encoded data removed]",
      "text/plain": [
       "<Figure size 640x480 with 1 Axes>"
      ]
     },
     "metadata": {},
     "output_type": "display_data"
    }
   ],
   "source": [
    "sns.boxplot(data=df_final[['Num_envios']], orient=\"h\")"
   ]
  },
  {
   "cell_type": "code",
   "execution_count": 95,
   "id": "fa195b23-2582-4908-bc6a-63e1016bc19f",
   "metadata": {},
   "outputs": [
    {
     "data": {
      "text/plain": [
       "<AxesSubplot:>"
      ]
     },
     "execution_count": 95,
     "metadata": {},
     "output_type": "execute_result"
    },
    {
     "data": {
      "image/png": "[encoded data removed]",
      "text/plain": [
       "<Figure size 640x480 with 1 Axes>"
      ]
     },
     "metadata": {},
     "output_type": "display_data"
    }
   ],
   "source": [
    "sns.boxplot(data=df_final[['n1_global','n2_global','n3_global','n4_global']], orient=\"h\")"
   ]
  },
  {
   "cell_type": "code",
   "execution_count": 96,
   "id": "3ed67562-686a-4ef9-86ed-cc7548d30ca8",
   "metadata": {},
   "outputs": [],
   "source": [
    "# Seleccionamos los no Outliers usando percentiles\n",
    "per = 95\n",
    "\n",
    "# Depuración de las anomalías en las columnas.\n",
    "num_envios = (df_final['Num_envios'] < np.percentile(df_final['Num_envios'] , per))\n"
   ]
  },
  {
   "cell_type": "code",
   "execution_count": 97,
   "id": "8b918310-1653-40ca-b59c-72c5a9d2c0f9",
   "metadata": {},
   "outputs": [],
   "source": [
    "df_final= df_final[num_envios].copy()"
   ]
  },
  {
   "cell_type": "code",
   "execution_count": 98,
   "id": "00846fc0-27c3-4ad5-9657-90e4f18aab1b",
   "metadata": {},
   "outputs": [],
   "source": [
    "per_b = 5\n",
    "n1_global_no_out= (df_final['n1_global'] > np.percentile(df_final['n1_global'] , per_b))"
   ]
  },
  {
   "cell_type": "code",
   "execution_count": 99,
   "id": "bd0fa709-7787-487b-b0e2-0abedaf80cd3",
   "metadata": {},
   "outputs": [],
   "source": [
    "df_final= df_final[n1_global_no_out].copy()"
   ]
  },
  {
   "cell_type": "code",
   "execution_count": 100,
   "id": "836830f1-da2b-4dd3-bcec-cfc5864a9680",
   "metadata": {},
   "outputs": [
    {
     "data": {
      "text/plain": [
       "<AxesSubplot:>"
      ]
     },
     "execution_count": 100,
     "metadata": {},
     "output_type": "execute_result"
    },
    {
     "data": {
      "image/png": "[encoded data removed]",
      "text/plain": [
       "<Figure size 640x480 with 1 Axes>"
      ]
     },
     "metadata": {},
     "output_type": "display_data"
    }
   ],
   "source": [
    "sns.boxplot(data=df_final[['Num_envios']], orient=\"h\")"
   ]
  },
  {
   "cell_type": "code",
   "execution_count": 101,
   "id": "c2f923ac-28d1-4f6c-8487-e8c860fc7c64",
   "metadata": {},
   "outputs": [
    {
     "data": {
      "text/plain": [
       "<AxesSubplot:>"
      ]
     },
     "execution_count": 101,
     "metadata": {},
     "output_type": "execute_result"
    },
    {
     "data": {
      "image/png": "[encoded data removed]",
      "text/plain": [
       "<Figure size 640x480 with 1 Axes>"
      ]
     },
     "metadata": {},
     "output_type": "display_data"
    }
   ],
   "source": [
    "sns.boxplot(data=df_final[['n1_global','n2_global','n3_global','n4_global']], orient=\"h\")"
   ]
  },
  {
   "cell_type": "code",
   "execution_count": 30,
   "id": "f86f673a-7d54-4dbd-84a5-87cb045d2759",
   "metadata": {},
   "outputs": [
    {
     "data": {
      "text/html": [
       "<div>\n",
       "<style scoped>\n",
       "    .dataframe tbody tr th:only-of-type {\n",
       "        vertical-align: middle;\n",
       "    }\n",
       "\n",
       "    .dataframe tbody tr th {\n",
       "        vertical-align: top;\n",
       "    }\n",
       "\n",
       "    .dataframe thead th {\n",
       "        text-align: right;\n",
       "    }\n",
       "</style>\n",
       "<table border=\"1\" class=\"dataframe\">\n",
       "  <thead>\n",
       "    <tr style=\"text-align: right;\">\n",
       "      <th></th>\n",
       "      <th>nivel</th>\n",
       "      <th>Num_envios</th>\n",
       "      <th>n1_global</th>\n",
       "      <th>n2_global</th>\n",
       "      <th>n3_global</th>\n",
       "      <th>n4_global</th>\n",
       "    </tr>\n",
       "  </thead>\n",
       "  <tbody>\n",
       "    <tr>\n",
       "      <th>count</th>\n",
       "      <td>11904.000000</td>\n",
       "      <td>11904.000000</td>\n",
       "      <td>11904.000000</td>\n",
       "      <td>11904.000000</td>\n",
       "      <td>11904.000000</td>\n",
       "      <td>11904.000000</td>\n",
       "    </tr>\n",
       "    <tr>\n",
       "      <th>mean</th>\n",
       "      <td>2.426999</td>\n",
       "      <td>15.583921</td>\n",
       "      <td>4.348832</td>\n",
       "      <td>3.782857</td>\n",
       "      <td>3.581108</td>\n",
       "      <td>2.611957</td>\n",
       "    </tr>\n",
       "    <tr>\n",
       "      <th>std</th>\n",
       "      <td>1.101981</td>\n",
       "      <td>10.786683</td>\n",
       "      <td>0.630180</td>\n",
       "      <td>1.081915</td>\n",
       "      <td>1.368582</td>\n",
       "      <td>1.917855</td>\n",
       "    </tr>\n",
       "    <tr>\n",
       "      <th>min</th>\n",
       "      <td>1.000000</td>\n",
       "      <td>1.000000</td>\n",
       "      <td>2.090000</td>\n",
       "      <td>0.000000</td>\n",
       "      <td>0.000000</td>\n",
       "      <td>0.000000</td>\n",
       "    </tr>\n",
       "    <tr>\n",
       "      <th>25%</th>\n",
       "      <td>1.000000</td>\n",
       "      <td>7.000000</td>\n",
       "      <td>4.100000</td>\n",
       "      <td>3.360000</td>\n",
       "      <td>3.114286</td>\n",
       "      <td>0.000000</td>\n",
       "    </tr>\n",
       "    <tr>\n",
       "      <th>50%</th>\n",
       "      <td>2.000000</td>\n",
       "      <td>13.000000</td>\n",
       "      <td>4.500000</td>\n",
       "      <td>4.050000</td>\n",
       "      <td>4.000000</td>\n",
       "      <td>3.275000</td>\n",
       "    </tr>\n",
       "    <tr>\n",
       "      <th>75%</th>\n",
       "      <td>3.000000</td>\n",
       "      <td>22.000000</td>\n",
       "      <td>4.800000</td>\n",
       "      <td>4.580000</td>\n",
       "      <td>4.590000</td>\n",
       "      <td>4.310000</td>\n",
       "    </tr>\n",
       "    <tr>\n",
       "      <th>max</th>\n",
       "      <td>4.000000</td>\n",
       "      <td>48.000000</td>\n",
       "      <td>5.120000</td>\n",
       "      <td>5.050000</td>\n",
       "      <td>5.180000</td>\n",
       "      <td>5.266667</td>\n",
       "    </tr>\n",
       "  </tbody>\n",
       "</table>\n",
       "</div>"
      ],
      "text/plain": [
       "              nivel    Num_envios     n1_global     n2_global     n3_global  \\\n",
       "count  11904.000000  11904.000000  11904.000000  11904.000000  11904.000000   \n",
       "mean       2.426999     15.583921      4.348832      3.782857      3.581108   \n",
       "std        1.101981     10.786683      0.630180      1.081915      1.368582   \n",
       "min        1.000000      1.000000      2.090000      0.000000      0.000000   \n",
       "25%        1.000000      7.000000      4.100000      3.360000      3.114286   \n",
       "50%        2.000000     13.000000      4.500000      4.050000      4.000000   \n",
       "75%        3.000000     22.000000      4.800000      4.580000      4.590000   \n",
       "max        4.000000     48.000000      5.120000      5.050000      5.180000   \n",
       "\n",
       "          n4_global  \n",
       "count  11904.000000  \n",
       "mean       2.611957  \n",
       "std        1.917855  \n",
       "min        0.000000  \n",
       "25%        0.000000  \n",
       "50%        3.275000  \n",
       "75%        4.310000  \n",
       "max        5.266667  "
      ]
     },
     "execution_count": 30,
     "metadata": {},
     "output_type": "execute_result"
    }
   ],
   "source": [
    "df_final[(df_final['retiro']=='NR')].describe()"
   ]
  },
  {
   "cell_type": "code",
   "execution_count": 31,
   "id": "906f8685-9079-4989-ad9b-cba9a6ce50ba",
   "metadata": {},
   "outputs": [
    {
     "data": {
      "text/html": [
       "<div>\n",
       "<style scoped>\n",
       "    .dataframe tbody tr th:only-of-type {\n",
       "        vertical-align: middle;\n",
       "    }\n",
       "\n",
       "    .dataframe tbody tr th {\n",
       "        vertical-align: top;\n",
       "    }\n",
       "\n",
       "    .dataframe thead th {\n",
       "        text-align: right;\n",
       "    }\n",
       "</style>\n",
       "<table border=\"1\" class=\"dataframe\">\n",
       "  <thead>\n",
       "    <tr style=\"text-align: right;\">\n",
       "      <th></th>\n",
       "      <th>nivel</th>\n",
       "      <th>Num_envios</th>\n",
       "      <th>n1_global</th>\n",
       "      <th>n2_global</th>\n",
       "      <th>n3_global</th>\n",
       "      <th>n4_global</th>\n",
       "    </tr>\n",
       "  </thead>\n",
       "  <tbody>\n",
       "    <tr>\n",
       "      <th>count</th>\n",
       "      <td>1037.000000</td>\n",
       "      <td>1037.000000</td>\n",
       "      <td>1037.000000</td>\n",
       "      <td>1037.000000</td>\n",
       "      <td>1037.000000</td>\n",
       "      <td>1037.000000</td>\n",
       "    </tr>\n",
       "    <tr>\n",
       "      <th>mean</th>\n",
       "      <td>2.174542</td>\n",
       "      <td>14.077146</td>\n",
       "      <td>3.824255</td>\n",
       "      <td>2.528033</td>\n",
       "      <td>1.583857</td>\n",
       "      <td>0.636827</td>\n",
       "    </tr>\n",
       "    <tr>\n",
       "      <th>std</th>\n",
       "      <td>1.048720</td>\n",
       "      <td>11.254678</td>\n",
       "      <td>0.783241</td>\n",
       "      <td>1.295663</td>\n",
       "      <td>1.406412</td>\n",
       "      <td>1.102526</td>\n",
       "    </tr>\n",
       "    <tr>\n",
       "      <th>min</th>\n",
       "      <td>1.000000</td>\n",
       "      <td>1.000000</td>\n",
       "      <td>2.080000</td>\n",
       "      <td>0.000000</td>\n",
       "      <td>0.000000</td>\n",
       "      <td>0.000000</td>\n",
       "    </tr>\n",
       "    <tr>\n",
       "      <th>25%</th>\n",
       "      <td>1.000000</td>\n",
       "      <td>5.000000</td>\n",
       "      <td>3.280000</td>\n",
       "      <td>1.710000</td>\n",
       "      <td>0.000000</td>\n",
       "      <td>0.000000</td>\n",
       "    </tr>\n",
       "    <tr>\n",
       "      <th>50%</th>\n",
       "      <td>2.000000</td>\n",
       "      <td>11.000000</td>\n",
       "      <td>4.040000</td>\n",
       "      <td>2.670000</td>\n",
       "      <td>1.480000</td>\n",
       "      <td>0.000000</td>\n",
       "    </tr>\n",
       "    <tr>\n",
       "      <th>75%</th>\n",
       "      <td>3.000000</td>\n",
       "      <td>20.000000</td>\n",
       "      <td>4.450000</td>\n",
       "      <td>3.610000</td>\n",
       "      <td>2.740000</td>\n",
       "      <td>1.030000</td>\n",
       "    </tr>\n",
       "    <tr>\n",
       "      <th>max</th>\n",
       "      <td>4.000000</td>\n",
       "      <td>48.000000</td>\n",
       "      <td>5.000000</td>\n",
       "      <td>4.970000</td>\n",
       "      <td>4.900000</td>\n",
       "      <td>4.680000</td>\n",
       "    </tr>\n",
       "  </tbody>\n",
       "</table>\n",
       "</div>"
      ],
      "text/plain": [
       "             nivel   Num_envios    n1_global    n2_global    n3_global  \\\n",
       "count  1037.000000  1037.000000  1037.000000  1037.000000  1037.000000   \n",
       "mean      2.174542    14.077146     3.824255     2.528033     1.583857   \n",
       "std       1.048720    11.254678     0.783241     1.295663     1.406412   \n",
       "min       1.000000     1.000000     2.080000     0.000000     0.000000   \n",
       "25%       1.000000     5.000000     3.280000     1.710000     0.000000   \n",
       "50%       2.000000    11.000000     4.040000     2.670000     1.480000   \n",
       "75%       3.000000    20.000000     4.450000     3.610000     2.740000   \n",
       "max       4.000000    48.000000     5.000000     4.970000     4.900000   \n",
       "\n",
       "         n4_global  \n",
       "count  1037.000000  \n",
       "mean      0.636827  \n",
       "std       1.102526  \n",
       "min       0.000000  \n",
       "25%       0.000000  \n",
       "50%       0.000000  \n",
       "75%       1.030000  \n",
       "max       4.680000  "
      ]
     },
     "execution_count": 31,
     "metadata": {},
     "output_type": "execute_result"
    }
   ],
   "source": [
    "df_final[(df_final['retiro']=='R') |  (df_final['retiro']=='r')].describe()"
   ]
  },
  {
   "cell_type": "code",
   "execution_count": 32,
   "id": "1d837594-6f04-48f5-a86c-f124238e38a8",
   "metadata": {},
   "outputs": [
    {
     "data": {
      "text/plain": [
       "<AxesSubplot:>"
      ]
     },
     "execution_count": 32,
     "metadata": {},
     "output_type": "execute_result"
    },
    {
     "data": {
      "image/png": "[encoded data removed]",
      "text/plain": [
       "<Figure size 640x480 with 1 Axes>"
      ]
     },
     "metadata": {},
     "output_type": "display_data"
    }
   ],
   "source": [
    "sns.boxplot(data=df_final[['Num_envios','n1_global','n2_global','n3_global','n4_global']], orient=\"h\")"
   ]
  },
  {
   "cell_type": "code",
   "execution_count": 33,
   "id": "b2997c27-ea26-44da-9614-3fec98cefb06",
   "metadata": {},
   "outputs": [
    {
     "data": {
      "text/plain": [
       "<AxesSubplot:xlabel='n2_global'>"
      ]
     },
     "execution_count": 33,
     "metadata": {},
     "output_type": "execute_result"
    },
    {
     "data": {
      "image/png": "[encoded data removed]",
      "text/plain": [
       "<Figure size 640x480 with 1 Axes>"
      ]
     },
     "metadata": {},
     "output_type": "display_data"
    }
   ],
   "source": [
    "sns.boxplot(x=df_final[\"n2_global\"])"
   ]
  },
  {
   "cell_type": "code",
   "execution_count": 34,
   "id": "a8be9624-ae0d-4d87-8717-2323485bb1a8",
   "metadata": {},
   "outputs": [],
   "source": [
    "df_final['retiroOno'] = np.where((df_final['retiro']=='NR'),1,0)"
   ]
  },
  {
   "cell_type": "code",
   "execution_count": 35,
   "id": "10d04f85-0c5a-4758-bcbc-7986c78a2ddc",
   "metadata": {},
   "outputs": [],
   "source": [
    "columnas=['Num_envios','n1_global','n2_global','n3_global','n4_global','retiroOno']\n",
    "df_nivel1= (df_final[(df_final['nivel']==1) ])\n",
    "df_nivel2=df_final[(df_final['nivel']==2) ]\n",
    "df_nivel3= df_final[(df_final['nivel']==3) ]\n",
    "df_nivel4=df_final[(df_final['nivel']==4) ]\n",
    "corr_df1= df_nivel1[['Num_envios','n1_global']].corr(method='pearson')\n",
    "corr_df2= df_nivel2[['Num_envios','n2_global']].corr(method='pearson')\n",
    "corr_df3= df_nivel3[['Num_envios','n3_global']].corr(method='pearson')\n",
    "corr_df4= df_nivel4[['Num_envios','n4_global']].corr(method='pearson')"
   ]
  },
  {
   "cell_type": "code",
   "execution_count": 102,
   "id": "7f5a987e-63fe-4801-9f85-7a1f95c86d8f",
   "metadata": {},
   "outputs": [
    {
     "name": "stdout",
     "output_type": "stream",
     "text": [
      "<class 'pandas.core.frame.DataFrame'>\n",
      "Int64Index: 3501 entries, 0 to 14391\n",
      "Data columns (total 11 columns):\n",
      " #   Column         Non-Null Count  Dtype  \n",
      "---  ------         --------------  -----  \n",
      " 0   est_sem_id     3501 non-null   object \n",
      " 1   nivel          3501 non-null   int64  \n",
      " 2   Num_envios     3501 non-null   int64  \n",
      " 3   estudiante_id  3501 non-null   object \n",
      " 4   n1_global      3501 non-null   float64\n",
      " 5   n2_global      3501 non-null   float64\n",
      " 6   n3_global      3501 non-null   float64\n",
      " 7   n4_global      3501 non-null   float64\n",
      " 8   retiro         3501 non-null   object \n",
      " 9   semestre       3501 non-null   object \n",
      " 10  retiroOno      3501 non-null   int32  \n",
      "dtypes: float64(4), int32(1), int64(2), object(4)\n",
      "memory usage: 314.5+ KB\n"
     ]
    }
   ],
   "source": [
    "df_nivel1.info()"
   ]
  },
  {
   "cell_type": "code",
   "execution_count": 103,
   "id": "2231cf40-b70b-4e84-a8ee-a3cd898e15d8",
   "metadata": {},
   "outputs": [
    {
     "name": "stdout",
     "output_type": "stream",
     "text": [
      "<class 'pandas.core.frame.DataFrame'>\n",
      "Int64Index: 3486 entries, 1 to 14392\n",
      "Data columns (total 11 columns):\n",
      " #   Column         Non-Null Count  Dtype  \n",
      "---  ------         --------------  -----  \n",
      " 0   est_sem_id     3486 non-null   object \n",
      " 1   nivel          3486 non-null   int64  \n",
      " 2   Num_envios     3486 non-null   int64  \n",
      " 3   estudiante_id  3486 non-null   object \n",
      " 4   n1_global      3486 non-null   float64\n",
      " 5   n2_global      3486 non-null   float64\n",
      " 6   n3_global      3486 non-null   float64\n",
      " 7   n4_global      3486 non-null   float64\n",
      " 8   retiro         3486 non-null   object \n",
      " 9   semestre       3486 non-null   object \n",
      " 10  retiroOno      3486 non-null   int32  \n",
      "dtypes: float64(4), int32(1), int64(2), object(4)\n",
      "memory usage: 313.2+ KB\n"
     ]
    }
   ],
   "source": [
    "df_nivel2.info()"
   ]
  },
  {
   "cell_type": "code",
   "execution_count": 104,
   "id": "fc0c47a5-1a05-44c8-bf8b-264136e431a0",
   "metadata": {},
   "outputs": [
    {
     "name": "stdout",
     "output_type": "stream",
     "text": [
      "<class 'pandas.core.frame.DataFrame'>\n",
      "Int64Index: 3210 entries, 2 to 14393\n",
      "Data columns (total 11 columns):\n",
      " #   Column         Non-Null Count  Dtype  \n",
      "---  ------         --------------  -----  \n",
      " 0   est_sem_id     3210 non-null   object \n",
      " 1   nivel          3210 non-null   int64  \n",
      " 2   Num_envios     3210 non-null   int64  \n",
      " 3   estudiante_id  3210 non-null   object \n",
      " 4   n1_global      3210 non-null   float64\n",
      " 5   n2_global      3210 non-null   float64\n",
      " 6   n3_global      3210 non-null   float64\n",
      " 7   n4_global      3210 non-null   float64\n",
      " 8   retiro         3210 non-null   object \n",
      " 9   semestre       3210 non-null   object \n",
      " 10  retiroOno      3210 non-null   int32  \n",
      "dtypes: float64(4), int32(1), int64(2), object(4)\n",
      "memory usage: 288.4+ KB\n"
     ]
    }
   ],
   "source": [
    "df_nivel3.info()"
   ]
  },
  {
   "cell_type": "code",
   "execution_count": 105,
   "id": "7bd265d8-8c8c-41fd-a0d1-04f984fc469d",
   "metadata": {},
   "outputs": [
    {
     "name": "stdout",
     "output_type": "stream",
     "text": [
      "<class 'pandas.core.frame.DataFrame'>\n",
      "Int64Index: 2786 entries, 6 to 14390\n",
      "Data columns (total 11 columns):\n",
      " #   Column         Non-Null Count  Dtype  \n",
      "---  ------         --------------  -----  \n",
      " 0   est_sem_id     2786 non-null   object \n",
      " 1   nivel          2786 non-null   int64  \n",
      " 2   Num_envios     2786 non-null   int64  \n",
      " 3   estudiante_id  2786 non-null   object \n",
      " 4   n1_global      2786 non-null   float64\n",
      " 5   n2_global      2786 non-null   float64\n",
      " 6   n3_global      2786 non-null   float64\n",
      " 7   n4_global      2786 non-null   float64\n",
      " 8   retiro         2786 non-null   object \n",
      " 9   semestre       2786 non-null   object \n",
      " 10  retiroOno      2786 non-null   int32  \n",
      "dtypes: float64(4), int32(1), int64(2), object(4)\n",
      "memory usage: 250.3+ KB\n"
     ]
    }
   ],
   "source": [
    "df_nivel4.info()"
   ]
  },
  {
   "cell_type": "code",
   "execution_count": 36,
   "id": "17835ddd-674f-4e71-856d-c9c46261aaba",
   "metadata": {},
   "outputs": [
    {
     "data": {
      "image/png": "[encoded data removed]",
      "text/plain": [
       "<Figure size 800x600 with 2 Axes>"
      ]
     },
     "metadata": {},
     "output_type": "display_data"
    },
    {
     "data": {
      "image/png": "[encoded data removed]",
      "text/plain": [
       "<Figure size 800x600 with 2 Axes>"
      ]
     },
     "metadata": {},
     "output_type": "display_data"
    },
    {
     "data": {
      "image/png": "[encoded data removed]",
      "text/plain": [
       "<Figure size 800x600 with 2 Axes>"
      ]
     },
     "metadata": {},
     "output_type": "display_data"
    },
    {
     "data": {
      "image/png": "[encoded data removed]",
      "text/plain": [
       "<Figure size 800x600 with 2 Axes>"
      ]
     },
     "metadata": {},
     "output_type": "display_data"
    }
   ],
   "source": [
    "plt.figure(figsize=(8, 6))\n",
    "sns.heatmap(corr_df1[['Num_envios','n1_global']], annot=True)\n",
    "plt.show()\n",
    "plt.figure(figsize=(8, 6))\n",
    "sns.heatmap(corr_df2[['Num_envios','n2_global']], annot=True)\n",
    "plt.show()\n",
    "plt.figure(figsize=(8, 6))\n",
    "sns.heatmap(corr_df3[['Num_envios','n3_global']], annot=True)\n",
    "plt.show()\n",
    "plt.figure(figsize=(8, 6))\n",
    "sns.heatmap(corr_df4[['Num_envios','n4_global']], annot=True)\n",
    "plt.show()"
   ]
  },
  {
   "cell_type": "code",
   "execution_count": 37,
   "id": "04da34a8-ec6e-4c11-82d2-77faffb6c6ff",
   "metadata": {},
   "outputs": [
    {
     "data": {
      "text/plain": [
       "Esmayor1\n",
       "1    12983\n",
       "Name: num, dtype: int64"
      ]
     },
     "execution_count": 37,
     "metadata": {},
     "output_type": "execute_result"
    }
   ],
   "source": [
    "df_final['Esmayor1'] = np.where(df_final['n1_global'] > 0 , 1, 0)\n",
    "((df_final).groupby(['Esmayor1']).count()).rename(columns={\"estudiante_id\": \"num\"})['num']"
   ]
  },
  {
   "cell_type": "code",
   "execution_count": 38,
   "id": "99983e0b-3ad0-4626-855a-e5c3cc7555b8",
   "metadata": {
    "tags": []
   },
   "outputs": [
    {
     "data": {
      "text/plain": [
       "Esmayor2\n",
       "0      298\n",
       "1    12685\n",
       "Name: num, dtype: int64"
      ]
     },
     "execution_count": 38,
     "metadata": {},
     "output_type": "execute_result"
    }
   ],
   "source": [
    "df_final['Esmayor2'] = np.where(df_final['n2_global'] > 0 , 1, 0)\n",
    "((df_final).groupby(['Esmayor2']).count()).rename(columns={\"estudiante_id\": \"num\"})['num']"
   ]
  },
  {
   "cell_type": "code",
   "execution_count": 39,
   "id": "41eac811-a6d1-46ac-840e-5ef8b2894003",
   "metadata": {},
   "outputs": [
    {
     "data": {
      "text/plain": [
       "Esmayor3\n",
       "0     1120\n",
       "1    11863\n",
       "Name: num, dtype: int64"
      ]
     },
     "execution_count": 39,
     "metadata": {},
     "output_type": "execute_result"
    }
   ],
   "source": [
    "df_final['Esmayor3'] = np.where(df_final['n3_global'] > 0 , 1, 0)\n",
    "((df_final).groupby(['Esmayor3']).count()).rename(columns={\"estudiante_id\": \"num\"})['num']"
   ]
  },
  {
   "cell_type": "code",
   "execution_count": 40,
   "id": "9003e36a-428a-415c-9b6e-8ea065c65ac3",
   "metadata": {},
   "outputs": [
    {
     "data": {
      "text/plain": [
       "Esmayor4\n",
       "0    4258\n",
       "1    8725\n",
       "Name: num, dtype: int64"
      ]
     },
     "execution_count": 40,
     "metadata": {},
     "output_type": "execute_result"
    }
   ],
   "source": [
    "df_final['Esmayor4'] = np.where(df_final['n4_global'] > 0 , 1, 0)\n",
    "((df_final).groupby(['Esmayor4']).count()).rename(columns={\"estudiante_id\": \"num\"})['num']\n",
    "#Probar el analisis sin los datos de la nota 4 y ver los rangos que tienen las notas en general.\n",
    "#Ver si el estudiante retiró la materia (Adjuntar columna retiro de tabla observatorio)"
   ]
  },
  {
   "cell_type": "code",
   "execution_count": 41,
   "id": "b64e5630-f50d-4781-93ab-0e476be79797",
   "metadata": {},
   "outputs": [
    {
     "data": {
      "text/plain": [
       "Esmayor4\n",
       "0    3552\n",
       "1    8352\n",
       "Name: num, dtype: int64"
      ]
     },
     "execution_count": 41,
     "metadata": {},
     "output_type": "execute_result"
    }
   ],
   "source": [
    "(((df_final[(df_final['retiro'] == 'NR')]).groupby(['Esmayor4']).count()).rename(columns={\"estudiante_id\": \"num\"})['num'])"
   ]
  },
  {
   "cell_type": "code",
   "execution_count": 42,
   "id": "f86526ae-ea85-4e48-ac94-f45a9fc45024",
   "metadata": {},
   "outputs": [
    {
     "data": {
      "text/plain": [
       "Esmayor4\n",
       "0    691\n",
       "1    346\n",
       "Name: num, dtype: int64"
      ]
     },
     "execution_count": 42,
     "metadata": {},
     "output_type": "execute_result"
    }
   ],
   "source": [
    "(((df_final[(df_final['retiro'] == 'R') | (df_final['retiro'] == 'r')]).groupby(['Esmayor4']).count()).rename(columns={\"estudiante_id\": \"num\"})['num'])"
   ]
  },
  {
   "cell_type": "code",
   "execution_count": 43,
   "id": "e37c88ef-2350-469b-8742-8cdce07946a9",
   "metadata": {},
   "outputs": [],
   "source": [
    "# Es mirar porque el nivel 4 tiene tantas notas vacías y ver si retiraron.\n",
    "# Intentar normalizar  o tratar de darle un rango al número de envíos o realizar agrupaciones (Categorías) graficarlo. ¿ Que pasa en comparación con los que no realizaron envíos con los que si ?.\n",
    "\n",
    "\n",
    "# Como se calculan los puntos a detalle.\n",
    "# Separar los envíos que se hizo por tarea y por envíos adicionales."
   ]
  },
  {
   "cell_type": "code",
   "execution_count": 44,
   "id": "e787bb87-b7f7-464a-84fa-73a2623a3e90",
   "metadata": {},
   "outputs": [
    {
     "data": {
      "text/plain": [
       "' Duda: No se entiende muy bien el uso de la columna retiro ( R,r,A y P) en la tabla observatorio , ya que no se entiende muy bien cuando se retira y cuando no , hay datos nulos y vacíos\\n    Supuestos: COn la columna retiro: Si es nulo no retiró, P= Pendiente, A= ? , R o r= Retiró, vacío = no se sabe, pero aplica para estudiantes del programa de la alcaldía , pero deberían ir nulos'"
      ]
     },
     "execution_count": 44,
     "metadata": {},
     "output_type": "execute_result"
    }
   ],
   "source": [
    "''' Duda: No se entiende muy bien el uso de la columna retiro ( R,r,A y P) en la tabla observatorio , ya que no se entiende muy bien cuando se retira y cuando no , hay datos nulos y vacíos\n",
    "    Supuestos: COn la columna retiro: Si es nulo no retiró, P= Pendiente, A= ? , R o r= Retiró, vacío = no se sabe, pero aplica para estudiantes del programa de la alcaldía , pero deberían ir nulos'''"
   ]
  },
  {
   "cell_type": "markdown",
   "id": "ab1ea89a-ce62-411d-b7c1-c1ec9336aed6",
   "metadata": {},
   "source": [
    "## Gráficas Importantes"
   ]
  },
  {
   "cell_type": "code",
   "execution_count": 45,
   "id": "7fd58dcb-0bcc-4754-8db6-1bf596f55130",
   "metadata": {},
   "outputs": [
    {
     "data": {
      "text/html": [
       "<div>\n",
       "<style scoped>\n",
       "    .dataframe tbody tr th:only-of-type {\n",
       "        vertical-align: middle;\n",
       "    }\n",
       "\n",
       "    .dataframe tbody tr th {\n",
       "        vertical-align: top;\n",
       "    }\n",
       "\n",
       "    .dataframe thead th {\n",
       "        text-align: right;\n",
       "    }\n",
       "</style>\n",
       "<table border=\"1\" class=\"dataframe\">\n",
       "  <thead>\n",
       "    <tr style=\"text-align: right;\">\n",
       "      <th></th>\n",
       "      <th>estudiante_id</th>\n",
       "      <th>n1_global</th>\n",
       "      <th>n2_global</th>\n",
       "      <th>n3_global</th>\n",
       "      <th>n4_global</th>\n",
       "      <th>retiro</th>\n",
       "      <th>semestre</th>\n",
       "      <th>est_sem_id</th>\n",
       "    </tr>\n",
       "  </thead>\n",
       "  <tbody>\n",
       "    <tr>\n",
       "      <th>4</th>\n",
       "      <td>867</td>\n",
       "      <td>2.19</td>\n",
       "      <td>2.89</td>\n",
       "      <td>3.350000</td>\n",
       "      <td>3.97</td>\n",
       "      <td>NR</td>\n",
       "      <td>202010</td>\n",
       "      <td>867202010</td>\n",
       "    </tr>\n",
       "    <tr>\n",
       "      <th>5</th>\n",
       "      <td>910</td>\n",
       "      <td>4.57</td>\n",
       "      <td>4.92</td>\n",
       "      <td>4.460000</td>\n",
       "      <td>3.71</td>\n",
       "      <td>NR</td>\n",
       "      <td>202010</td>\n",
       "      <td>910202010</td>\n",
       "    </tr>\n",
       "    <tr>\n",
       "      <th>7</th>\n",
       "      <td>1186</td>\n",
       "      <td>3.67</td>\n",
       "      <td>4.08</td>\n",
       "      <td>4.320000</td>\n",
       "      <td>3.44</td>\n",
       "      <td>NR</td>\n",
       "      <td>202010</td>\n",
       "      <td>1186202010</td>\n",
       "    </tr>\n",
       "    <tr>\n",
       "      <th>8</th>\n",
       "      <td>1394</td>\n",
       "      <td>4.58</td>\n",
       "      <td>4.31</td>\n",
       "      <td>4.190000</td>\n",
       "      <td>4.37</td>\n",
       "      <td>NR</td>\n",
       "      <td>202010</td>\n",
       "      <td>1394202010</td>\n",
       "    </tr>\n",
       "    <tr>\n",
       "      <th>9</th>\n",
       "      <td>1436</td>\n",
       "      <td>4.94</td>\n",
       "      <td>4.70</td>\n",
       "      <td>3.680000</td>\n",
       "      <td>2.65</td>\n",
       "      <td>NR</td>\n",
       "      <td>202010</td>\n",
       "      <td>1436202010</td>\n",
       "    </tr>\n",
       "    <tr>\n",
       "      <th>...</th>\n",
       "      <td>...</td>\n",
       "      <td>...</td>\n",
       "      <td>...</td>\n",
       "      <td>...</td>\n",
       "      <td>...</td>\n",
       "      <td>...</td>\n",
       "      <td>...</td>\n",
       "      <td>...</td>\n",
       "    </tr>\n",
       "    <tr>\n",
       "      <th>7918</th>\n",
       "      <td>5286</td>\n",
       "      <td>4.30</td>\n",
       "      <td>4.52</td>\n",
       "      <td>5.000000</td>\n",
       "      <td>0.00</td>\n",
       "      <td>NR</td>\n",
       "      <td>202210</td>\n",
       "      <td>5286202210</td>\n",
       "    </tr>\n",
       "    <tr>\n",
       "      <th>7921</th>\n",
       "      <td>5709</td>\n",
       "      <td>4.70</td>\n",
       "      <td>3.48</td>\n",
       "      <td>4.800000</td>\n",
       "      <td>0.00</td>\n",
       "      <td>NR</td>\n",
       "      <td>202210</td>\n",
       "      <td>5709202210</td>\n",
       "    </tr>\n",
       "    <tr>\n",
       "      <th>7922</th>\n",
       "      <td>5865</td>\n",
       "      <td>4.60</td>\n",
       "      <td>2.92</td>\n",
       "      <td>3.942857</td>\n",
       "      <td>0.00</td>\n",
       "      <td>NR</td>\n",
       "      <td>202210</td>\n",
       "      <td>5865202210</td>\n",
       "    </tr>\n",
       "    <tr>\n",
       "      <th>7924</th>\n",
       "      <td>5996</td>\n",
       "      <td>4.70</td>\n",
       "      <td>4.72</td>\n",
       "      <td>4.314286</td>\n",
       "      <td>0.00</td>\n",
       "      <td>NR</td>\n",
       "      <td>202210</td>\n",
       "      <td>5996202210</td>\n",
       "    </tr>\n",
       "    <tr>\n",
       "      <th>7925</th>\n",
       "      <td>6097</td>\n",
       "      <td>1.00</td>\n",
       "      <td>0.84</td>\n",
       "      <td>0.000000</td>\n",
       "      <td>0.00</td>\n",
       "      <td>NR</td>\n",
       "      <td>202210</td>\n",
       "      <td>6097202210</td>\n",
       "    </tr>\n",
       "  </tbody>\n",
       "</table>\n",
       "<p>6819 rows × 8 columns</p>\n",
       "</div>"
      ],
      "text/plain": [
       "     estudiante_id  n1_global  n2_global  n3_global  n4_global retiro  \\\n",
       "4              867       2.19       2.89   3.350000       3.97     NR   \n",
       "5              910       4.57       4.92   4.460000       3.71     NR   \n",
       "7             1186       3.67       4.08   4.320000       3.44     NR   \n",
       "8             1394       4.58       4.31   4.190000       4.37     NR   \n",
       "9             1436       4.94       4.70   3.680000       2.65     NR   \n",
       "...            ...        ...        ...        ...        ...    ...   \n",
       "7918          5286       4.30       4.52   5.000000       0.00     NR   \n",
       "7921          5709       4.70       3.48   4.800000       0.00     NR   \n",
       "7922          5865       4.60       2.92   3.942857       0.00     NR   \n",
       "7924          5996       4.70       4.72   4.314286       0.00     NR   \n",
       "7925          6097       1.00       0.84   0.000000       0.00     NR   \n",
       "\n",
       "     semestre  est_sem_id  \n",
       "4      202010   867202010  \n",
       "5      202010   910202010  \n",
       "7      202010  1186202010  \n",
       "8      202010  1394202010  \n",
       "9      202010  1436202010  \n",
       "...       ...         ...  \n",
       "7918   202210  5286202210  \n",
       "7921   202210  5709202210  \n",
       "7922   202210  5865202210  \n",
       "7924   202210  5996202210  \n",
       "7925   202210  6097202210  \n",
       "\n",
       "[6819 rows x 8 columns]"
      ]
     },
     "execution_count": 45,
     "metadata": {},
     "output_type": "execute_result"
    }
   ],
   "source": [
    "info_estudiantes_det"
   ]
  },
  {
   "cell_type": "code",
   "execution_count": 46,
   "id": "ca303d99-5ba1-4181-a1e8-cd76d21a90e9",
   "metadata": {},
   "outputs": [],
   "source": [
    "df_info_hist= info_estudiantes_det.copy()"
   ]
  },
  {
   "cell_type": "code",
   "execution_count": 47,
   "id": "6bd7dfe2-ff1f-4824-a6bd-679a003d19ad",
   "metadata": {},
   "outputs": [],
   "source": [
    "df_info_hist.fillna(value=\"NR\", inplace=True)"
   ]
  },
  {
   "cell_type": "code",
   "execution_count": 48,
   "id": "9dd2b95b-94f7-4afd-bba3-7f7f54d17818",
   "metadata": {},
   "outputs": [],
   "source": [
    "df_info_hist['EsMayor0_n1'] = np.where(df_info_hist['n1_global']>0,1,0)\n",
    "df_info_hist['EsMayor0_n2'] = np.where(df_info_hist['n2_global']>0,1,0)\n",
    "df_info_hist['EsMayor0_n3'] = np.where(df_info_hist['n3_global']>0,1,0)\n",
    "df_info_hist['EsMayor0_n4'] = np.where(df_info_hist['n4_global']>0,1,0)"
   ]
  },
  {
   "cell_type": "code",
   "execution_count": 49,
   "id": "d1c4374e-17a2-4ddd-9268-190cc0469ae4",
   "metadata": {},
   "outputs": [
    {
     "data": {
      "image/png": "[encoded data removed]",
      "text/plain": [
       "<Figure size 640x480 with 4 Axes>"
      ]
     },
     "metadata": {},
     "output_type": "display_data"
    }
   ],
   "source": [
    "hist = (df_info_hist[['EsMayor0_n1','EsMayor0_n2','EsMayor0_n3','EsMayor0_n4']])[df_info_hist['retiro'] == \"NR\"].hist(bins=8)"
   ]
  },
  {
   "cell_type": "code",
   "execution_count": 50,
   "id": "6e50f08c-7d4c-40ac-9995-e4892528cb76",
   "metadata": {},
   "outputs": [
    {
     "data": {
      "image/png": "[encoded data removed]",
      "text/plain": [
       "<Figure size 640x480 with 4 Axes>"
      ]
     },
     "metadata": {},
     "output_type": "display_data"
    }
   ],
   "source": [
    "hist = (df_info_hist[['n1_global','n2_global','n3_global','n4_global']])[df_info_hist['retiro'] == \"NR\"].hist(bins=20)"
   ]
  },
  {
   "cell_type": "code",
   "execution_count": 51,
   "id": "fb8f31c1-9b6d-499d-ae5a-d313f0248455",
   "metadata": {},
   "outputs": [
    {
     "data": {
      "image/png": "[encoded data removed]",
      "text/plain": [
       "<Figure size 640x480 with 4 Axes>"
      ]
     },
     "metadata": {},
     "output_type": "display_data"
    }
   ],
   "source": [
    "hist = (df_info_hist[['EsMayor0_n1','EsMayor0_n2','EsMayor0_n3','EsMayor0_n4']])[(df_info_hist['retiro'] == \"R\") | (df_info_hist['retiro'] == \"r\") | (df_info_hist['retiro'] == \"P\") | (df_info_hist['retiro'] == \"A\")].hist(bins=8)"
   ]
  },
  {
   "cell_type": "code",
   "execution_count": 52,
   "id": "150e7854-29c9-485b-8ba9-e082c9f7db56",
   "metadata": {},
   "outputs": [
    {
     "data": {
      "image/png": "[encoded data removed]",
      "text/plain": [
       "<Figure size 640x480 with 4 Axes>"
      ]
     },
     "metadata": {},
     "output_type": "display_data"
    }
   ],
   "source": [
    "hist = (df_info_hist[['n1_global','n2_global','n3_global','n4_global']])[(df_info_hist['retiro'] == \"R\") | (df_info_hist['retiro'] == \"r\") | (df_info_hist['retiro'] == \"P\") | (df_info_hist['retiro'] == \"A\")].hist(bins=20)"
   ]
  },
  {
   "cell_type": "code",
   "execution_count": null,
   "id": "987ccbba-141b-4f93-955a-5ebe43448606",
   "metadata": {},
   "outputs": [],
   "source": [
    "#Comment: se podría repetir todos los niveles pero se obtendrá casi que el mismo resultado que este nivel. Una misma conclusión , \n",
    "#este grupo de datos se pueden clasificar en 4 grupos principales, unos que hacen muchos envíos y sacan una alta nota en el nivel, pocos y baja nota , muchos y baja nota, pocos y alta nota. \n",
    "\n",
    "# Este clustering se puede mejorar con una dimensión más."
   ]
  }
 ],
 "metadata": {
  "kernelspec": {
   "display_name": "Python 3 (ipykernel)",
   "language": "python",
   "name": "python3"
  },
  "language_info": {
   "codemirror_mode": {
    "name": "ipython",
    "version": 3
   },
   "file_extension": ".py",
   "mimetype": "text/x-python",
   "name": "python",
   "nbconvert_exporter": "python",
   "pygments_lexer": "ipython3",
   "version": "3.8.13"
  },
  "vscode": {
   "interpreter": {
    "hash": "23b4a3e8622309bcc6db3d5cc6eb73d60ab98d9ec23bad6a26b709981ccb403a"
   }
  }
 },
 "nbformat": 4,
 "nbformat_minor": 5
}
